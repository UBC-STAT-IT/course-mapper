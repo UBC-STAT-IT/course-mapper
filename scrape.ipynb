{
 "cells": [
  {
   "cell_type": "markdown",
   "id": "f7539b98",
   "metadata": {},
   "source": [
    "# Scrape UBC STATV Course Descriptions\n",
    "This notebook will automate scraping course descriptions from the UBC STATV webpage using Python."
   ]
  },
  {
   "cell_type": "code",
   "execution_count": null,
   "id": "4096256d",
   "metadata": {},
   "outputs": [],
   "source": [
    "# Import required libraries\n",
    "import requests\n",
    "from bs4 import BeautifulSoup\n",
    "\n",
    "# Define the URL to scrape\n",
    "url = \"https://vancouver.calendar.ubc.ca/course-descriptions/subject/statv\"\n",
    "\n",
    "# Send a GET request to the webpage\n",
    "response = requests.get(url)\n",
    "\n",
    "# Check if the request was successful\n",
    "if response.status_code == 200:\n",
    "    soup = BeautifulSoup(response.text, 'html.parser')\n",
    "    # Example: Find all course blocks\n",
    "    courses = soup.find_all('div', class_='courseblock')\n",
    "    for course in courses:\n",
    "        title = course.find('span', class_='courseblocktitle').get_text(strip=True) if course.find('span', class_='courseblocktitle') else None\n",
    "        desc = course.find('div', class_='courseblockdesc').get_text(strip=True) if course.find('div', class_='courseblockdesc') else None\n",
    "        print(f\"Title: {title}\\nDescription: {desc}\\n\")\n",
    "else:\n",
    "    print(f\"Failed to retrieve page. Status code: {response.status_code}\")"
   ]
  },
  {
   "cell_type": "code",
   "execution_count": null,
   "id": "f34e9280",
   "metadata": {},
   "outputs": [],
   "source": []
  }
 ],
 "metadata": {
  "language_info": {
   "name": "python"
  }
 },
 "nbformat": 4,
 "nbformat_minor": 5
}
